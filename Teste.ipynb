{
 "cells": [
  {
   "cell_type": "code",
   "execution_count": 1,
   "metadata": {},
   "outputs": [],
   "source": [
    "import random\n",
    "from PIL import Image\n",
    "from datetime import datetime\n",
    "import unicodedata\n",
    "\n",
    "import numpy as np\n",
    "import pandas as pd\n",
    "import nltk\n",
    "import matplotlib\n",
    "from matplotlib import pyplot as plt\n",
    "import seaborn as sns\n",
    "from wordcloud import WordCloud"
   ]
  },
  {
   "cell_type": "code",
   "execution_count": 2,
   "metadata": {},
   "outputs": [],
   "source": [
    "sns.set()\n",
    "\n",
    "# A color blind safe palette that goes well with the background\n",
    "COLOR_5S = '#0571b0'\n",
    "COLOR_1S = '#ca0020'\n",
    "REVIEWS_PALETTE = sns.color_palette((COLOR_1S, '#d57b6f', '#c6c6c6', '#7f9abc', COLOR_5S))\n",
    "\n",
    "# Lighter background to help with review categories' colors\n",
    "sns.set_style('darkgrid', {'axes.facecolor': '#eeeeee'})\n",
    "\n",
    "# Default figure size\n",
    "resize_plot = lambda: plt.gcf().set_size_inches(12, 5)"
   ]
  },
  {
   "cell_type": "code",
   "execution_count": 3,
   "metadata": {},
   "outputs": [],
   "source": [
    "orders = pd.read_csv('../olist_orders_dataset.csv')\n",
    "reviews = pd.read_csv('../olist_order_reviews_dataset.csv')\n",
    "\n",
    "# Convert columns to datetime\n",
    "reviews['review_creation_date'] = pd.to_datetime(reviews['review_creation_date'], format='%Y/%m/%d %H:%M:%S')\n",
    "reviews['review_answer_timestamp'] = pd.to_datetime(reviews['review_answer_timestamp'], format='%Y/%m/%d %H:%M:%S')\n",
    "orders['order_purchase_timestamp'] = pd.to_datetime(orders['order_purchase_timestamp'], format='%Y/%m/%d %H:%M:%S')\n",
    "orders['order_delivered_customer_date'] = pd.to_datetime(orders['order_delivered_customer_date'], format='%Y/%m/%d %H:%M:%S')\n",
    "\n",
    "# Merge with orders\n",
    "reviews = pd.merge(reviews, orders, on='order_id')\n",
    "\n",
    "# Remove unused columns\n",
    "to_drop = [\n",
    "    'review_id', \n",
    "    'order_id', \n",
    "    'customer_id', \n",
    "    'review_comment_title', \n",
    "    'order_approved_at', \n",
    "    'order_delivered_carrier_date', \n",
    "    'order_estimated_delivery_date'\n",
    "]\n",
    "reviews.drop(columns=to_drop, inplace=True)"
   ]
  },
  {
   "cell_type": "code",
   "execution_count": 4,
   "metadata": {},
   "outputs": [
    {
     "data": {
      "text/html": [
       "<div>\n",
       "<style scoped>\n",
       "    .dataframe tbody tr th:only-of-type {\n",
       "        vertical-align: middle;\n",
       "    }\n",
       "\n",
       "    .dataframe tbody tr th {\n",
       "        vertical-align: top;\n",
       "    }\n",
       "\n",
       "    .dataframe thead th {\n",
       "        text-align: right;\n",
       "    }\n",
       "</style>\n",
       "<table border=\"1\" class=\"dataframe\">\n",
       "  <thead>\n",
       "    <tr style=\"text-align: right;\">\n",
       "      <th></th>\n",
       "      <th>review_score</th>\n",
       "      <th>review_comment_message</th>\n",
       "      <th>review_creation_date</th>\n",
       "      <th>review_answer_timestamp</th>\n",
       "      <th>order_status</th>\n",
       "      <th>order_purchase_timestamp</th>\n",
       "      <th>order_delivered_customer_date</th>\n",
       "    </tr>\n",
       "  </thead>\n",
       "  <tbody>\n",
       "    <tr>\n",
       "      <th>0</th>\n",
       "      <td>4</td>\n",
       "      <td>NaN</td>\n",
       "      <td>2018-01-18</td>\n",
       "      <td>2018-01-18 21:46:59</td>\n",
       "      <td>delivered</td>\n",
       "      <td>2018-01-11 15:30:49</td>\n",
       "      <td>2018-01-17 18:42:41</td>\n",
       "    </tr>\n",
       "    <tr>\n",
       "      <th>1</th>\n",
       "      <td>5</td>\n",
       "      <td>NaN</td>\n",
       "      <td>2018-03-10</td>\n",
       "      <td>2018-03-11 03:05:13</td>\n",
       "      <td>delivered</td>\n",
       "      <td>2018-02-28 12:25:19</td>\n",
       "      <td>2018-03-09 23:17:20</td>\n",
       "    </tr>\n",
       "    <tr>\n",
       "      <th>2</th>\n",
       "      <td>5</td>\n",
       "      <td>NaN</td>\n",
       "      <td>2018-02-17</td>\n",
       "      <td>2018-02-18 14:36:24</td>\n",
       "      <td>delivered</td>\n",
       "      <td>2018-02-03 09:56:22</td>\n",
       "      <td>2018-02-16 17:28:48</td>\n",
       "    </tr>\n",
       "    <tr>\n",
       "      <th>3</th>\n",
       "      <td>5</td>\n",
       "      <td>Recebi bem antes do prazo estipulado.</td>\n",
       "      <td>2017-04-21</td>\n",
       "      <td>2017-04-21 22:02:06</td>\n",
       "      <td>delivered</td>\n",
       "      <td>2017-04-09 17:41:13</td>\n",
       "      <td>2017-04-20 09:08:35</td>\n",
       "    </tr>\n",
       "    <tr>\n",
       "      <th>4</th>\n",
       "      <td>5</td>\n",
       "      <td>Parabéns lojas lannister adorei comprar pela I...</td>\n",
       "      <td>2018-03-01</td>\n",
       "      <td>2018-03-02 10:26:53</td>\n",
       "      <td>delivered</td>\n",
       "      <td>2018-02-10 10:59:03</td>\n",
       "      <td>2018-02-28 16:33:35</td>\n",
       "    </tr>\n",
       "  </tbody>\n",
       "</table>\n",
       "</div>"
      ],
      "text/plain": [
       "   review_score                             review_comment_message  \\\n",
       "0             4                                                NaN   \n",
       "1             5                                                NaN   \n",
       "2             5                                                NaN   \n",
       "3             5              Recebi bem antes do prazo estipulado.   \n",
       "4             5  Parabéns lojas lannister adorei comprar pela I...   \n",
       "\n",
       "  review_creation_date review_answer_timestamp order_status  \\\n",
       "0           2018-01-18     2018-01-18 21:46:59    delivered   \n",
       "1           2018-03-10     2018-03-11 03:05:13    delivered   \n",
       "2           2018-02-17     2018-02-18 14:36:24    delivered   \n",
       "3           2017-04-21     2017-04-21 22:02:06    delivered   \n",
       "4           2018-03-01     2018-03-02 10:26:53    delivered   \n",
       "\n",
       "  order_purchase_timestamp order_delivered_customer_date  \n",
       "0      2018-01-11 15:30:49           2018-01-17 18:42:41  \n",
       "1      2018-02-28 12:25:19           2018-03-09 23:17:20  \n",
       "2      2018-02-03 09:56:22           2018-02-16 17:28:48  \n",
       "3      2017-04-09 17:41:13           2017-04-20 09:08:35  \n",
       "4      2018-02-10 10:59:03           2018-02-28 16:33:35  "
      ]
     },
     "execution_count": 4,
     "metadata": {},
     "output_type": "execute_result"
    }
   ],
   "source": [
    "reviews.head()"
   ]
  },
  {
   "cell_type": "code",
   "execution_count": 8,
   "metadata": {},
   "outputs": [
    {
     "name": "stdout",
     "output_type": "stream",
     "text": [
      "100000 reviews\n",
      "First: 2016-10-02 00:00:00\n",
      "Last: 2018-08-31 00:00:00\n",
      "5★: 57.4%\n",
      "1★: 11.9%\n",
      "Average: 4.1★\n"
     ]
    }
   ],
   "source": [
    "p_5s = len(reviews[reviews['review_score'] == 5]) * 100 / len(reviews)\n",
    "p_1s = len(reviews[reviews['review_score'] == 1]) * 100 / len(reviews)\n",
    "first_dt = reviews['review_creation_date'].min()\n",
    "last_dt = reviews['review_creation_date'].max()\n",
    "avg_s = reviews['review_score'].mean()\n",
    "print(len(reviews), 'reviews')\n",
    "print('First:', first_dt)\n",
    "print('Last:', last_dt)\n",
    "print(f'5★: {p_5s:.1f}%')\n",
    "print(f'1★: {p_1s:.1f}%')\n",
    "print(f'Average: {avg_s:.1f}★')"
   ]
  },
  {
   "cell_type": "code",
   "execution_count": 12,
   "metadata": {},
   "outputs": [
    {
     "data": {
      "image/png": "[encoded data removed]",
      "text/plain": [
       "<Figure size 360x360 with 1 Axes>"
      ]
     },
     "metadata": {},
     "output_type": "display_data"
    }
   ],
   "source": [
    "sns.catplot(\n",
    "    x='review_score',\n",
    "    kind='count',\n",
    "    data=reviews,\n",
    "    palette=REVIEWS_PALETTE\n",
    ").set(\n",
    "    xlabel='Review Score',\n",
    "    ylabel='Number of Reviews',\n",
    ");"
   ]
  },
  {
   "cell_type": "code",
   "execution_count": null,
   "metadata": {},
   "outputs": [],
   "source": []
  }
 ],
 "metadata": {
  "kernelspec": {
   "display_name": "Python 3",
   "language": "python",
   "name": "python3"
  },
  "language_info": {
   "codemirror_mode": {
    "name": "ipython",
    "version": 3
   },
   "file_extension": ".py",
   "mimetype": "text/x-python",
   "name": "python",
   "nbconvert_exporter": "python",
   "pygments_lexer": "ipython3",
   "version": "3.7.1"
  }
 },
 "nbformat": 4,
 "nbformat_minor": 2
}
